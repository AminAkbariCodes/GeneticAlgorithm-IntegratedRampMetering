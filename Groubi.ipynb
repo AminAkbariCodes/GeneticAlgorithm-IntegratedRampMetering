{
 "cells": [
  {
   "cell_type": "code",
   "execution_count": 1,
   "id": "7dd0b622",
   "metadata": {
    "scrolled": false
   },
   "outputs": [],
   "source": [
    "import gurobipy as gp\n",
    "from gurobipy import GRB\n",
    "\n",
    "import pandas as pd\n",
    "import numpy as np"
   ]
  },
  {
   "cell_type": "code",
   "execution_count": 2,
   "id": "79218d64",
   "metadata": {},
   "outputs": [],
   "source": [
    "# Input the data\n",
    "Aij = pd.read_excel('data.xlsx', sheet_name='Aij')\n",
    "Aij = Aij.iloc[0:5,1:6]\n",
    "matrix_Aij = np.array(Aij)\n",
    "\n",
    "Demand = pd.read_excel('data.xlsx', sheet_name='Demand')\n",
    "Demand = Demand.iloc[0:5,1:2]\n",
    "matrix_demand = np.array(Demand)\n",
    "\n",
    "Capacity = pd.read_excel('data.xlsx', sheet_name='Capacity')\n",
    "Capacity = Capacity.iloc[0:5,1:2]\n",
    "matrix_capacity = np.array(Capacity)"
   ]
  },
  {
   "cell_type": "code",
   "execution_count": 3,
   "id": "7005b131",
   "metadata": {},
   "outputs": [
    {
     "name": "stdout",
     "output_type": "stream",
     "text": [
      "Set parameter Username\n",
      "Academic license - for non-commercial use only - expires 2024-01-27\n"
     ]
    }
   ],
   "source": [
    "# Model\n",
    "m = gp.Model(\"Ramp_Metering\")"
   ]
  },
  {
   "cell_type": "code",
   "execution_count": 4,
   "id": "ca66a469",
   "metadata": {},
   "outputs": [],
   "source": [
    "# Create decision variables\n",
    "x1 = m.addVar(name=\"x1\")\n",
    "x2 = m.addVar(name=\"x2\")\n",
    "x3 = m.addVar(name=\"x3\")\n",
    "x4 = m.addVar(name=\"x4\")\n",
    "\n",
    "y1 = m.addVar(vtype=GRB.BINARY, name=\"y1\")\n",
    "y2 = m.addVar(vtype=GRB.BINARY, name=\"y2\")\n",
    "y3 = m.addVar(vtype=GRB.BINARY, name=\"y3\")\n",
    "y4 = m.addVar(vtype=GRB.BINARY, name=\"y4\")\n",
    "\n",
    "k1 = m.addVar(vtype=GRB.BINARY, name=\"k1\")\n",
    "k2 = m.addVar(vtype=GRB.BINARY, name=\"k2\")\n",
    "k3 = m.addVar(vtype=GRB.BINARY, name=\"k3\")\n",
    "k4 = m.addVar(vtype=GRB.BINARY, name=\"k4\")\n",
    "\n",
    "var = [x1, x2, x3, x4, y1, y2, y3, y4, k1, k2, k3, k4]\n"
   ]
  },
  {
   "cell_type": "code",
   "execution_count": 5,
   "id": "b8072e82",
   "metadata": {},
   "outputs": [],
   "source": [
    "# Set the objective function\n",
    "m.setObjective(matrix_demand[0,0]+1.0*x1 + 1.0*x2 + \n",
    "               1.0*x3 + 1.0*x4, GRB.MAXIMIZE)"
   ]
  },
  {
   "cell_type": "code",
   "execution_count": 6,
   "id": "e4228365",
   "metadata": {},
   "outputs": [],
   "source": [
    "# Add constraints\n",
    "a = 0\n",
    "b = 0\n",
    "M = 1000000000000000000\n",
    "\n",
    "#1\n",
    "for j in range (1,5):\n",
    "    for i in range (1,j+1): \n",
    "        a = matrix_Aij[i,j] * var[i-1]\n",
    "        b = b + a\n",
    "    m.addConstr(matrix_demand[0,0] * matrix_Aij[0,j] + \n",
    "                b <= matrix_capacity[j-1,0])\n",
    "    b = 0\n",
    "    \n",
    "#2   \n",
    "for j in range (1,5):\n",
    "    m.addConstr(var[j-1] <= matrix_demand[j,0])\n",
    "    \n",
    "#3   \n",
    "for j in range (1,5):\n",
    "    m.addConstr(var[j-1] >= matrix_demand[j,0] * (1-var[j+3]))\n",
    "    \n",
    "#4\n",
    "for j in range (1,5):\n",
    "    m.addConstr(var[j-1] >= 180 * var[j+3])\n",
    "    \n",
    "#5\n",
    "for j in range (1,5):\n",
    "    m.addConstr(var[j-1] <= matrix_demand[j,0] * (1-var[j+3]) + \n",
    "               900 * var[j+3])\n",
    "    \n",
    "#6\n",
    "for j in range (1,5):\n",
    "    m.addConstr(var[j+3] <= M * var[j+7])\n",
    "    \n",
    "#7\n",
    "for j in range (1,5):\n",
    "    m.addConstr(var[j-1] - matrix_demand[j,0] <= M * (1-var[j+7]))\n",
    "    "
   ]
  },
  {
   "cell_type": "code",
   "execution_count": 7,
   "id": "e9b3f060",
   "metadata": {},
   "outputs": [
    {
     "name": "stdout",
     "output_type": "stream",
     "text": [
      "Gurobi Optimizer version 10.0.2 build v10.0.2rc0 (win64)\n",
      "\n",
      "CPU model: Intel(R) Core(TM) i5-7200U CPU @ 2.50GHz, instruction set [SSE2|AVX|AVX2]\n",
      "Thread count: 2 physical cores, 4 logical processors, using up to 4 threads\n",
      "\n",
      "Optimize a model with 28 rows, 12 columns and 54 nonzeros\n",
      "Model fingerprint: 0x2998f0db\n",
      "Variable types: 4 continuous, 8 integer (8 binary)\n",
      "Coefficient statistics:\n",
      "  Matrix range     [6e-01, 1e+18]\n",
      "  Objective range  [1e+00, 1e+00]\n",
      "  Bounds range     [1e+00, 1e+00]\n",
      "  RHS range        [4e+02, 1e+18]\n",
      "Warning: Model contains large matrix coefficient range\n",
      "Warning: Model contains large rhs\n",
      "         Consider reformulating model or setting NumericFocus parameter\n",
      "         to avoid numerical issues.\n",
      "Presolve removed 28 rows and 12 columns\n",
      "Presolve time: 0.03s\n",
      "Presolve: All rows and columns removed\n",
      "\n",
      "Explored 0 nodes (0 simplex iterations) in 0.05 seconds (0.00 work units)\n",
      "Thread count was 1 (of 4 available processors)\n",
      "\n",
      "Solution count 1: 6573.33 \n",
      "\n",
      "Optimal solution found (tolerance 1.00e-04)\n",
      "Best objective 6.573333333333e+03, best bound 6.573333333333e+03, gap 0.0000%\n"
     ]
    }
   ],
   "source": [
    "# Optimize the model\n",
    "m.optimize()"
   ]
  },
  {
   "cell_type": "code",
   "execution_count": 8,
   "id": "8e6bdf6e",
   "metadata": {
    "scrolled": true
   },
   "outputs": [
    {
     "name": "stdout",
     "output_type": "stream",
     "text": [
      "x1 333.333\n",
      "x2 180\n",
      "x3 460\n",
      "x4 1000\n",
      "y1 1\n",
      "y2 1\n",
      "y3 0\n",
      "y4 0\n",
      "k1 1\n",
      "k2 1\n",
      "k3 0\n",
      "k4 0\n"
     ]
    }
   ],
   "source": [
    "# Results\n",
    "for v in m.getVars():\n",
    "    print('%s %g' % (v.VarName, v.X))"
   ]
  },
  {
   "cell_type": "code",
   "execution_count": null,
   "id": "b20bc9d5",
   "metadata": {},
   "outputs": [],
   "source": []
  }
 ],
 "metadata": {
  "kernelspec": {
   "display_name": "Python 3 (ipykernel)",
   "language": "python",
   "name": "python3"
  },
  "language_info": {
   "codemirror_mode": {
    "name": "ipython",
    "version": 3
   },
   "file_extension": ".py",
   "mimetype": "text/x-python",
   "name": "python",
   "nbconvert_exporter": "python",
   "pygments_lexer": "ipython3",
   "version": "3.10.9"
  }
 },
 "nbformat": 4,
 "nbformat_minor": 5
}
